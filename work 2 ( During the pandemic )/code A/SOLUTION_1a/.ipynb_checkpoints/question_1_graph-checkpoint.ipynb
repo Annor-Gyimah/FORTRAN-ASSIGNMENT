{
 "cells": [
  {
   "cell_type": "code",
   "execution_count": 1,
   "metadata": {},
   "outputs": [],
   "source": [
    "import matplotlib.pyplot as plt\n",
    "import pandas as pd\n",
    "time_series = pd.read_csv('combined.csv')\n",
    "time_series['years'] = pd.to_datetime(time_series['years'])\n",
    "\n",
    "time_series = time_series.set_index('years')\n",
    "cols_plot = [ 'northern', 'transition','forest_zone']\n",
    "axes = time_series[cols_plot].plot(marker='o', linestyle='-', figsize=(12, 8), subplots=True)\n",
    "for ax in axes:\n",
    "    ax.set_ylabel('MOnthly Climatology')\n",
    "plt.savefig('graph1')\n",
    "plt.savefig('graph1.pdf')\n"
   ]
  },
  {
   "cell_type": "code",
   "execution_count": null,
   "metadata": {},
   "outputs": [],
   "source": []
  }
 ],
 "metadata": {
  "kernelspec": {
   "display_name": "Python 3",
   "language": "python",
   "name": "python3"
  },
  "language_info": {
   "codemirror_mode": {
    "name": "ipython",
    "version": 3
   },
   "file_extension": ".py",
   "mimetype": "text/x-python",
   "name": "python",
   "nbconvert_exporter": "python",
   "pygments_lexer": "ipython3",
   "version": "3.7.3"
  }
 },
 "nbformat": 4,
 "nbformat_minor": 2
}
